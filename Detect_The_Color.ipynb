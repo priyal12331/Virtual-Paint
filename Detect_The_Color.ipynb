{
 "cells": [
  {
   "cell_type": "code",
   "execution_count": null,
   "metadata": {},
   "outputs": [],
   "source": [
    "import cv2\n",
    "import numpy as np\n",
    "\n",
    "cap = cv2.VideoCapture(0)\n",
    "cap.set(3,640)\n",
    "cap.set(4,480)\n",
    "cap.set(10,100)\n",
    "frameCounter = 0\n",
    "\n",
    "def empty(a):\n",
    "    pass\n",
    "\n",
    "cv2.namedWindow(\"HSV\")\n",
    "cv2.resizeWindow(\"HSV\",640,480)\n",
    "cv2.createTrackbar(\"HUE MIN\",\"HSV\",0,179,empty)\n",
    "cv2.createTrackbar(\"HUE MAX\",\"HSV\",179,179,empty)\n",
    "cv2.createTrackbar(\"SAT MIN\",\"HSV\",0,255,empty)\n",
    "cv2.createTrackbar(\"SAT MAX\",\"HSV\",255,255,empty)\n",
    "cv2.createTrackbar(\"VAL MIN\",\"HSV\",0,255,empty)\n",
    "cv2.createTrackbar(\"VAL MAX\",\"HSV\",255,255,empty)\n",
    "\n",
    "while(True):\n",
    "    frameCounter += 1\n",
    "    if cap.get(cv2.CAP_PROP_FRAME_COUNT) == frameCounter:\n",
    "        cap.set(cv2.CAP_PROP_POS_FRAMES, 0)\n",
    "        frameCounter = 0\n",
    "\n",
    "    success, img = cap.read()\n",
    "    imgHsv = cv2.cvtColor(img,cv2.COLOR_BGR2HSV)\n",
    "    h_min = cv2.getTrackbarPos(\"HUE MIN\", \"HSV\")\n",
    "    h_max = cv2.getTrackbarPos(\"HUE MAX\", \"HSV\")\n",
    "    s_min = cv2.getTrackbarPos(\"SAT MIN\", \"HSV\")\n",
    "    s_max = cv2.getTrackbarPos(\"SAT MAX\", \"HSV\")\n",
    "    v_min = cv2.getTrackbarPos(\"VAL MIN\", \"HSV\")\n",
    "    v_max = cv2.getTrackbarPos(\"VAL MAX\", \"HSV\")\n",
    "\n",
    "    lower = np.array([h_min, s_min, v_min])\n",
    "    upper = np.array([h_max, s_max, v_max])\n",
    "    mask = cv2.inRange(imgHsv, lower, upper)\n",
    "    result = cv2.bitwise_and(img, img, mask=mask)\n",
    "\n",
    "    mask = cv2.cvtColor(mask, cv2.COLOR_GRAY2BGR)\n",
    "    hStack = np.hstack([img, mask, result])\n",
    "    cv2.imshow('Colors', hStack)\n",
    "\n",
    "    if(cv2.waitKey(1) and 0xFF == ord('q')):\n",
    "        break\n",
    "\n",
    "cv2.release()\n",
    "cv2.destroyAllWindows()\n"
   ]
  }
 ],
 "metadata": {
  "kernelspec": {
   "display_name": "Python 3",
   "language": "python",
   "name": "python3"
  },
  "language_info": {
   "codemirror_mode": {
    "name": "ipython",
    "version": 3
   },
   "file_extension": ".py",
   "mimetype": "text/x-python",
   "name": "python",
   "nbconvert_exporter": "python",
   "pygments_lexer": "ipython3",
   "version": "3.6.6"
  }
 },
 "nbformat": 4,
 "nbformat_minor": 2
}
